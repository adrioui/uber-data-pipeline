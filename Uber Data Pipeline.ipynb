{
 "cells": [
  {
   "cell_type": "markdown",
   "source": [
    "## Extract the Data"
   ],
   "metadata": {
    "collapsed": false
   },
   "id": "ff9ce96ca01978a9"
  },
  {
   "cell_type": "code",
   "execution_count": null,
   "id": "initial_id",
   "metadata": {
    "collapsed": true
   },
   "outputs": [],
   "source": [
    "import pyarrow.parquet as pq\n",
    "\n",
    "trips = pq.read_table('data/yellow_tripdata_2014-01.parquet')\n",
    "df = trips.to_pandas()"
   ]
  },
  {
   "cell_type": "markdown",
   "source": [
    "## Take a Glimpse of the Data and Clear"
   ],
   "metadata": {
    "collapsed": false
   },
   "id": "6f7e3294d980ae3e"
  },
  {
   "cell_type": "code",
   "outputs": [],
   "source": [
    "df.head()"
   ],
   "metadata": {
    "collapsed": false
   },
   "id": "6f648499ce3f5028",
   "execution_count": null
  },
  {
   "cell_type": "code",
   "outputs": [],
   "source": [
    "df.info()"
   ],
   "metadata": {
    "collapsed": false
   },
   "id": "b15919ca38d36f41",
   "execution_count": null
  },
  {
   "cell_type": "code",
   "outputs": [],
   "source": [
    "df = df.drop_duplicates().reset_index(drop=True)\n",
    "df['trip_id'] = df.index"
   ],
   "metadata": {
    "collapsed": false
   },
   "id": "1aba0afbc15f1c00",
   "execution_count": null
  },
  {
   "cell_type": "code",
   "outputs": [],
   "source": [
    "df.head(10)"
   ],
   "metadata": {
    "collapsed": false
   },
   "id": "14fa3d2d3fe48acb",
   "execution_count": null
  },
  {
   "cell_type": "code",
   "outputs": [],
   "source": [
    "df.fillna({'airport_fee': 0}, inplace=True)"
   ],
   "metadata": {
    "collapsed": false
   },
   "id": "58637f1462bbb5ab",
   "execution_count": null
  },
  {
   "cell_type": "code",
   "outputs": [],
   "source": [
    "df.dropna(subset=['store_and_fwd_flag'], inplace=True)"
   ],
   "metadata": {
    "collapsed": false
   },
   "id": "3a2b0b5d61cf979e",
   "execution_count": null
  },
  {
   "cell_type": "code",
   "outputs": [],
   "source": [
    "df[['store_and_fwd_flag']]"
   ],
   "metadata": {
    "collapsed": false
   },
   "id": "24ec8fedf9c27dd7",
   "execution_count": null
  },
  {
   "cell_type": "markdown",
   "source": [
    "## Transform the Data"
   ],
   "metadata": {
    "collapsed": false
   },
   "id": "19f8b3fa6a4d3b8e"
  },
  {
   "cell_type": "markdown",
   "source": [
    "### Datetime"
   ],
   "metadata": {
    "collapsed": false
   },
   "id": "df2ca873555b606b"
  },
  {
   "cell_type": "code",
   "outputs": [],
   "source": [
    "datetime_dim = df[['tpep_pickup_datetime', 'tpep_dropoff_datetime']].reset_index(drop=True)\n",
    "datetime_dim['pick_hour'] = datetime_dim['tpep_pickup_datetime'].dt.hour\n",
    "datetime_dim['pick_day'] = datetime_dim[\"tpep_pickup_datetime\"].dt.day\n",
    "datetime_dim['pick_month'] = datetime_dim['tpep_pickup_datetime'].dt.month\n",
    "datetime_dim['pick_year'] = datetime_dim[\"tpep_pickup_datetime\"].dt.year\n",
    "datetime_dim['pick_weekday'] = datetime_dim[\"tpep_pickup_datetime\"].dt.weekday\n",
    "\n",
    "datetime_dim['drop_hour'] = datetime_dim['tpep_dropoff_datetime'].dt.hour\n",
    "datetime_dim['drop_day'] = datetime_dim[\"tpep_dropoff_datetime\"].dt.day\n",
    "datetime_dim['drop_month'] = datetime_dim['tpep_dropoff_datetime'].dt.month\n",
    "datetime_dim['drop_year'] = datetime_dim[\"tpep_dropoff_datetime\"].dt.year\n",
    "datetime_dim['drop_weekday'] = datetime_dim[\"tpep_dropoff_datetime\"].dt.weekday"
   ],
   "metadata": {
    "collapsed": false
   },
   "id": "e97d7e2f8f6ddabb",
   "execution_count": null
  },
  {
   "cell_type": "code",
   "outputs": [],
   "source": [
    "datetime_dim.head()"
   ],
   "metadata": {
    "collapsed": false
   },
   "id": "6705b2b708b5077f",
   "execution_count": null
  },
  {
   "cell_type": "code",
   "outputs": [],
   "source": [
    "datetime_dim['datetime_id'] = datetime_dim.index"
   ],
   "metadata": {
    "collapsed": false
   },
   "id": "babfe8d30d0a80a0",
   "execution_count": null
  },
  {
   "cell_type": "code",
   "outputs": [],
   "source": [
    "datetime_dim.head()"
   ],
   "metadata": {
    "collapsed": false
   },
   "id": "680875f041971ff0",
   "execution_count": null
  },
  {
   "cell_type": "code",
   "outputs": [],
   "source": [
    "datetime_dim = datetime_dim[\n",
    "    ['datetime_id',\n",
    "     'tpep_pickup_datetime', 'pick_hour', 'pick_day', 'pick_month', 'pick_year', 'pick_weekday',\n",
    "     'tpep_dropoff_datetime', 'drop_hour', 'drop_day', 'drop_month', 'drop_year', 'drop_weekday']]"
   ],
   "metadata": {
    "collapsed": false
   },
   "id": "2cd2f7386574e4a",
   "execution_count": null
  },
  {
   "cell_type": "code",
   "outputs": [],
   "source": [
    "datetime_dim.head()"
   ],
   "metadata": {
    "collapsed": false
   },
   "id": "5159b0710740f4f4",
   "execution_count": null
  },
  {
   "cell_type": "code",
   "outputs": [],
   "source": [
    "datetime_dim.info()"
   ],
   "metadata": {
    "collapsed": false
   },
   "id": "180ff1c26b32b520",
   "execution_count": null
  },
  {
   "cell_type": "markdown",
   "source": [
    "### Passenger Count"
   ],
   "metadata": {
    "collapsed": false
   },
   "id": "1722773f3c7481cb"
  },
  {
   "cell_type": "code",
   "outputs": [],
   "source": [
    "passenger_count_dim = df[['passenger_count']].reset_index(drop=True)"
   ],
   "metadata": {
    "collapsed": false
   },
   "id": "167ec336d08635d3",
   "execution_count": null
  },
  {
   "cell_type": "code",
   "outputs": [],
   "source": [
    "passenger_count_dim['passenger_count_id'] = passenger_count_dim.index"
   ],
   "metadata": {
    "collapsed": false
   },
   "id": "249d3b2ed67688a3",
   "execution_count": null
  },
  {
   "cell_type": "code",
   "outputs": [],
   "source": [
    "passenger_count_dim = passenger_count_dim[['passenger_count_id', 'passenger_count']]"
   ],
   "metadata": {
    "collapsed": false
   },
   "id": "626ed1868b3f968e",
   "execution_count": null
  },
  {
   "cell_type": "code",
   "outputs": [],
   "source": [
    "passenger_count_dim.head()"
   ],
   "metadata": {
    "collapsed": false
   },
   "id": "d85ddcaf82cd6c71",
   "execution_count": null
  },
  {
   "cell_type": "markdown",
   "source": [
    "### Trip Distance"
   ],
   "metadata": {
    "collapsed": false
   },
   "id": "121d8e24a183360a"
  },
  {
   "cell_type": "code",
   "outputs": [],
   "source": [
    "trip_distance_dim = df[['trip_distance']].reset_index(drop=True)"
   ],
   "metadata": {
    "collapsed": false
   },
   "id": "45804ef0e62fb501",
   "execution_count": null
  },
  {
   "cell_type": "code",
   "outputs": [],
   "source": [
    "trip_distance_dim.head()"
   ],
   "metadata": {
    "collapsed": false
   },
   "id": "e623486cd0c7e25f",
   "execution_count": null
  },
  {
   "cell_type": "code",
   "outputs": [],
   "source": [
    "trip_distance_dim['trip_distance_id'] = trip_distance_dim.index"
   ],
   "metadata": {
    "collapsed": false
   },
   "id": "4885db77150da90b",
   "execution_count": null
  },
  {
   "cell_type": "code",
   "outputs": [],
   "source": [
    "trip_distance_dim = trip_distance_dim[['trip_distance_id', 'trip_distance']]\n",
    "trip_distance_dim.head()"
   ],
   "metadata": {
    "collapsed": false
   },
   "id": "97222ffc861dd507",
   "execution_count": null
  },
  {
   "cell_type": "markdown",
   "source": [
    "### Rate Code"
   ],
   "metadata": {
    "collapsed": false
   },
   "id": "fed0703d3b6cd210"
  },
  {
   "cell_type": "code",
   "outputs": [],
   "source": [
    "rate_code_dim = df[['RatecodeID']].reset_index(drop=True)"
   ],
   "metadata": {
    "collapsed": false
   },
   "id": "81082c028d952969",
   "execution_count": null
  },
  {
   "cell_type": "code",
   "outputs": [],
   "source": [
    "rate_code_dim.head()"
   ],
   "metadata": {
    "collapsed": false
   },
   "id": "a474270720867547",
   "execution_count": null
  },
  {
   "cell_type": "code",
   "outputs": [],
   "source": [
    "rate_code_dim['rate_code_id'] = rate_code_dim.index"
   ],
   "metadata": {
    "collapsed": false
   },
   "id": "779e60e2da923c6e",
   "execution_count": null
  },
  {
   "cell_type": "code",
   "outputs": [],
   "source": [
    "rate_code_name = {\n",
    "    1: \"Standard Rate\",\n",
    "    2: \"JFK\",\n",
    "    3: \"Newark\",\n",
    "    4: \"Nassau or Westchester\",\n",
    "    5: \"Negotiated fare\",\n",
    "    6: \"Group ride\"\n",
    "}\n",
    "\n",
    "rate_code_dim['rate_code_name'] = rate_code_dim['RatecodeID'].map(rate_code_name)\n",
    "rate_code_dim = rate_code_dim[['rate_code_id', 'RatecodeID', 'rate_code_name']]"
   ],
   "metadata": {
    "collapsed": false
   },
   "id": "9b0d2b4c9e34965d",
   "execution_count": null
  },
  {
   "cell_type": "markdown",
   "source": [
    "### Payment Type"
   ],
   "metadata": {
    "collapsed": false
   },
   "id": "fafc11b4c23b4d74"
  },
  {
   "cell_type": "code",
   "outputs": [],
   "source": [
    "payment_type_dim = df[['payment_type']].reset_index(drop=True)"
   ],
   "metadata": {
    "collapsed": false
   },
   "id": "5c04c49b8a8f2ec0",
   "execution_count": null
  },
  {
   "cell_type": "code",
   "outputs": [],
   "source": [
    "payment_type_dim['payment_type_id'] = payment_type_dim.index"
   ],
   "metadata": {
    "collapsed": false
   },
   "id": "2b66dd667a6e7ffa",
   "execution_count": null
  },
  {
   "cell_type": "code",
   "outputs": [],
   "source": [
    "payment_type_dim['payment_type_id'].value_counts()"
   ],
   "metadata": {
    "collapsed": false
   },
   "id": "a0053858bfbdb3ca",
   "execution_count": null
  },
  {
   "cell_type": "code",
   "outputs": [],
   "source": [
    "payment_type_name = {\n",
    "    1: \"Credit card\",\n",
    "    2: \"Cash\",\n",
    "    3: \"No Charge\",\n",
    "    4: \"Dispute\",\n",
    "    5: \"Unknown\",\n",
    "    6: \"Voided trip\"\n",
    "}\n",
    "payment_type_dim['payment_type_name'] = payment_type_dim['payment_type'].map(payment_type_name)"
   ],
   "metadata": {
    "collapsed": false
   },
   "id": "e0a61eab67a49762",
   "execution_count": null
  },
  {
   "cell_type": "code",
   "outputs": [],
   "source": [
    "payment_type_dim = payment_type_dim[['payment_type_id', 'payment_type_name', 'payment_type']]\n",
    "payment_type_dim.head()"
   ],
   "metadata": {
    "collapsed": false
   },
   "id": "a0bb8ed43e68712f",
   "execution_count": null
  },
  {
   "cell_type": "markdown",
   "source": [
    "### Merge into a Fact Table"
   ],
   "metadata": {
    "collapsed": false
   },
   "id": "aa5c7a5153bf8e48"
  },
  {
   "cell_type": "code",
   "outputs": [],
   "source": [
    "fact_table = (df.head(10).\n",
    "              merge(datetime_dim.head(10), left_on='trip_id', right_on='datetime_id').\n",
    "              merge(passenger_count_dim.head(10), left_on='trip_id', right_on='passenger_count_id').\n",
    "              merge(trip_distance_dim.head(10), left_on='trip_id', right_on='trip_distance_id').\n",
    "              merge(payment_type_dim.head(10), left_on='trip_id', right_on='payment_type_id').\n",
    "              merge(rate_code_dim.head(10), left_on='trip_id', right_on='rate_code_id'))[[\n",
    "    'trip_id', 'VendorID', 'datetime_id', 'passenger_count_id', 'trip_distance_id', \n",
    "    'rate_code_id', 'store_and_fwd_flag', 'PULocationID', 'DOLocationID',\n",
    "    'payment_type_id', 'fare_amount', 'extra', 'mta_tax', 'tip_amount', 'tolls_amount',\n",
    "    'improvement_surcharge', 'total_amount'\n",
    "]]"
   ],
   "metadata": {
    "collapsed": false
   },
   "id": "72c2707dedbee4d7",
   "execution_count": null
  },
  {
   "cell_type": "code",
   "outputs": [],
   "source": [
    "fact_table.head()"
   ],
   "metadata": {
    "collapsed": false
   },
   "id": "7be337e47e3e573a",
   "execution_count": null
  },
  {
   "cell_type": "code",
   "outputs": [],
   "source": [
    "fact_table.dropna(inplace=True)"
   ],
   "metadata": {
    "collapsed": false
   },
   "id": "beac3886bd7197fb",
   "execution_count": null
  },
  {
   "cell_type": "code",
   "outputs": [],
   "source": [
    "fact_table[['store_and_fwd_flag']].value_counts()"
   ],
   "metadata": {
    "collapsed": false
   },
   "id": "995b332e68b120ae",
   "execution_count": null
  }
 ],
 "metadata": {
  "kernelspec": {
   "display_name": "Python 3",
   "language": "python",
   "name": "python3"
  },
  "language_info": {
   "codemirror_mode": {
    "name": "ipython",
    "version": 2
   },
   "file_extension": ".py",
   "mimetype": "text/x-python",
   "name": "python",
   "nbconvert_exporter": "python",
   "pygments_lexer": "ipython2",
   "version": "2.7.6"
  }
 },
 "nbformat": 4,
 "nbformat_minor": 5
}
